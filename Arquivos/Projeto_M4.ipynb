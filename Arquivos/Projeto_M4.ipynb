{
  "nbformat": 4,
  "nbformat_minor": 0,
  "metadata": {
    "colab": {
      "provenance": []
    },
    "kernelspec": {
      "name": "python3",
      "display_name": "Python 3"
    },
    "language_info": {
      "name": "python"
    }
  },
  "cells": [
    {
      "cell_type": "markdown",
      "source": [
        "# Análise Exploratória: Desenvolvendo Softwares"
      ],
      "metadata": {
        "id": "llSHWcDLGl28"
      }
    },
    {
      "cell_type": "markdown",
      "source": [
        "## Introdução"
      ],
      "metadata": {
        "id": "ZKeQBHNwHLAW"
      }
    },
    {
      "cell_type": "markdown",
      "source": [
        "Nesse projeto iremos desenvolver um relatório para uma empresa de desenvolvimento de softwares para demonstrar a importancia da Análise de Dados durante o desenvolvimento de um software ao longo de um mes.\n",
        "\n",
        "Iniciaremos importando as bibliotecas necessárias que nesse caso utlizaremos a Pandas e a Matplotlib."
      ],
      "metadata": {
        "id": "LU_vJlg1FBWY"
      }
    },
    {
      "cell_type": "code",
      "execution_count": 37,
      "metadata": {
        "id": "M29oNoTt1kVL"
      },
      "outputs": [],
      "source": [
        "# Importando as bibliotecas necessárias:\n",
        "import pandas as pd\n",
        "import matplotlib.pyplot as plt"
      ]
    },
    {
      "cell_type": "code",
      "source": [
        "# Criando o DataFrame:\n",
        "base = pd.read_csv('Relatorio_de_progresso.csv', sep=';', encoding='latin-1')\n",
        "base_data = pd.DataFrame(base)"
      ],
      "metadata": {
        "id": "ZWlURia452gd"
      },
      "execution_count": 44,
      "outputs": []
    },
    {
      "cell_type": "markdown",
      "source": [
        "Se fez necessário utilizar o encoding latin-1 pois no arquivo .csv existem alguns caracteres que não são reconhecidos pelo padrão UTF-8."
      ],
      "metadata": {
        "id": "8oDFYJqMKo4M"
      }
    },
    {
      "cell_type": "code",
      "source": [
        "# Visualizando os primeiros 5 registros utilizando o HEAD:\n",
        "base_data.head(5)"
      ],
      "metadata": {
        "colab": {
          "base_uri": "https://localhost:8080/",
          "height": 206
        },
        "id": "HQT3enR0-JTZ",
        "outputId": "8e4b8e7d-cee9-4951-faca-d3ecf7fe7ab3"
      },
      "execution_count": 45,
      "outputs": [
        {
          "output_type": "execute_result",
          "data": {
            "text/plain": [
              "             Dia  Horas Trabalhadas  Bugs Corrigidos  Tarefas Concluídas\n",
              "0  Segunda-Feira                  6                3                   5\n",
              "1    Terça-Feira                  7                2                   4\n",
              "2   Quarta-Feira                  8                1                   6\n",
              "3   Quinta-Feira                  6                4                   4\n",
              "4    Sexta-Feira                  7                3                   5"
            ],
            "text/html": [
              "\n",
              "\n",
              "  <div id=\"df-05da2798-60ff-493d-948e-1c77639390c2\">\n",
              "    <div class=\"colab-df-container\">\n",
              "      <div>\n",
              "<style scoped>\n",
              "    .dataframe tbody tr th:only-of-type {\n",
              "        vertical-align: middle;\n",
              "    }\n",
              "\n",
              "    .dataframe tbody tr th {\n",
              "        vertical-align: top;\n",
              "    }\n",
              "\n",
              "    .dataframe thead th {\n",
              "        text-align: right;\n",
              "    }\n",
              "</style>\n",
              "<table border=\"1\" class=\"dataframe\">\n",
              "  <thead>\n",
              "    <tr style=\"text-align: right;\">\n",
              "      <th></th>\n",
              "      <th>Dia</th>\n",
              "      <th>Horas Trabalhadas</th>\n",
              "      <th>Bugs Corrigidos</th>\n",
              "      <th>Tarefas Concluídas</th>\n",
              "    </tr>\n",
              "  </thead>\n",
              "  <tbody>\n",
              "    <tr>\n",
              "      <th>0</th>\n",
              "      <td>Segunda-Feira</td>\n",
              "      <td>6</td>\n",
              "      <td>3</td>\n",
              "      <td>5</td>\n",
              "    </tr>\n",
              "    <tr>\n",
              "      <th>1</th>\n",
              "      <td>Terça-Feira</td>\n",
              "      <td>7</td>\n",
              "      <td>2</td>\n",
              "      <td>4</td>\n",
              "    </tr>\n",
              "    <tr>\n",
              "      <th>2</th>\n",
              "      <td>Quarta-Feira</td>\n",
              "      <td>8</td>\n",
              "      <td>1</td>\n",
              "      <td>6</td>\n",
              "    </tr>\n",
              "    <tr>\n",
              "      <th>3</th>\n",
              "      <td>Quinta-Feira</td>\n",
              "      <td>6</td>\n",
              "      <td>4</td>\n",
              "      <td>4</td>\n",
              "    </tr>\n",
              "    <tr>\n",
              "      <th>4</th>\n",
              "      <td>Sexta-Feira</td>\n",
              "      <td>7</td>\n",
              "      <td>3</td>\n",
              "      <td>5</td>\n",
              "    </tr>\n",
              "  </tbody>\n",
              "</table>\n",
              "</div>\n",
              "      <button class=\"colab-df-convert\" onclick=\"convertToInteractive('df-05da2798-60ff-493d-948e-1c77639390c2')\"\n",
              "              title=\"Convert this dataframe to an interactive table.\"\n",
              "              style=\"display:none;\">\n",
              "\n",
              "  <svg xmlns=\"http://www.w3.org/2000/svg\" height=\"24px\"viewBox=\"0 0 24 24\"\n",
              "       width=\"24px\">\n",
              "    <path d=\"M0 0h24v24H0V0z\" fill=\"none\"/>\n",
              "    <path d=\"M18.56 5.44l.94 2.06.94-2.06 2.06-.94-2.06-.94-.94-2.06-.94 2.06-2.06.94zm-11 1L8.5 8.5l.94-2.06 2.06-.94-2.06-.94L8.5 2.5l-.94 2.06-2.06.94zm10 10l.94 2.06.94-2.06 2.06-.94-2.06-.94-.94-2.06-.94 2.06-2.06.94z\"/><path d=\"M17.41 7.96l-1.37-1.37c-.4-.4-.92-.59-1.43-.59-.52 0-1.04.2-1.43.59L10.3 9.45l-7.72 7.72c-.78.78-.78 2.05 0 2.83L4 21.41c.39.39.9.59 1.41.59.51 0 1.02-.2 1.41-.59l7.78-7.78 2.81-2.81c.8-.78.8-2.07 0-2.86zM5.41 20L4 18.59l7.72-7.72 1.47 1.35L5.41 20z\"/>\n",
              "  </svg>\n",
              "      </button>\n",
              "\n",
              "\n",
              "\n",
              "    <div id=\"df-4bd35740-adaa-4f79-b72b-ebf268c8b124\">\n",
              "      <button class=\"colab-df-quickchart\" onclick=\"quickchart('df-4bd35740-adaa-4f79-b72b-ebf268c8b124')\"\n",
              "              title=\"Suggest charts.\"\n",
              "              style=\"display:none;\">\n",
              "\n",
              "<svg xmlns=\"http://www.w3.org/2000/svg\" height=\"24px\"viewBox=\"0 0 24 24\"\n",
              "     width=\"24px\">\n",
              "    <g>\n",
              "        <path d=\"M19 3H5c-1.1 0-2 .9-2 2v14c0 1.1.9 2 2 2h14c1.1 0 2-.9 2-2V5c0-1.1-.9-2-2-2zM9 17H7v-7h2v7zm4 0h-2V7h2v10zm4 0h-2v-4h2v4z\"/>\n",
              "    </g>\n",
              "</svg>\n",
              "      </button>\n",
              "    </div>\n",
              "\n",
              "<style>\n",
              "  .colab-df-quickchart {\n",
              "    background-color: #E8F0FE;\n",
              "    border: none;\n",
              "    border-radius: 50%;\n",
              "    cursor: pointer;\n",
              "    display: none;\n",
              "    fill: #1967D2;\n",
              "    height: 32px;\n",
              "    padding: 0 0 0 0;\n",
              "    width: 32px;\n",
              "  }\n",
              "\n",
              "  .colab-df-quickchart:hover {\n",
              "    background-color: #E2EBFA;\n",
              "    box-shadow: 0px 1px 2px rgba(60, 64, 67, 0.3), 0px 1px 3px 1px rgba(60, 64, 67, 0.15);\n",
              "    fill: #174EA6;\n",
              "  }\n",
              "\n",
              "  [theme=dark] .colab-df-quickchart {\n",
              "    background-color: #3B4455;\n",
              "    fill: #D2E3FC;\n",
              "  }\n",
              "\n",
              "  [theme=dark] .colab-df-quickchart:hover {\n",
              "    background-color: #434B5C;\n",
              "    box-shadow: 0px 1px 3px 1px rgba(0, 0, 0, 0.15);\n",
              "    filter: drop-shadow(0px 1px 2px rgba(0, 0, 0, 0.3));\n",
              "    fill: #FFFFFF;\n",
              "  }\n",
              "</style>\n",
              "\n",
              "    <script>\n",
              "      async function quickchart(key) {\n",
              "        const containerElement = document.querySelector('#' + key);\n",
              "        const charts = await google.colab.kernel.invokeFunction(\n",
              "            'suggestCharts', [key], {});\n",
              "      }\n",
              "    </script>\n",
              "\n",
              "      <script>\n",
              "\n",
              "function displayQuickchartButton(domScope) {\n",
              "  let quickchartButtonEl =\n",
              "    domScope.querySelector('#df-4bd35740-adaa-4f79-b72b-ebf268c8b124 button.colab-df-quickchart');\n",
              "  quickchartButtonEl.style.display =\n",
              "    google.colab.kernel.accessAllowed ? 'block' : 'none';\n",
              "}\n",
              "\n",
              "        displayQuickchartButton(document);\n",
              "      </script>\n",
              "      <style>\n",
              "    .colab-df-container {\n",
              "      display:flex;\n",
              "      flex-wrap:wrap;\n",
              "      gap: 12px;\n",
              "    }\n",
              "\n",
              "    .colab-df-convert {\n",
              "      background-color: #E8F0FE;\n",
              "      border: none;\n",
              "      border-radius: 50%;\n",
              "      cursor: pointer;\n",
              "      display: none;\n",
              "      fill: #1967D2;\n",
              "      height: 32px;\n",
              "      padding: 0 0 0 0;\n",
              "      width: 32px;\n",
              "    }\n",
              "\n",
              "    .colab-df-convert:hover {\n",
              "      background-color: #E2EBFA;\n",
              "      box-shadow: 0px 1px 2px rgba(60, 64, 67, 0.3), 0px 1px 3px 1px rgba(60, 64, 67, 0.15);\n",
              "      fill: #174EA6;\n",
              "    }\n",
              "\n",
              "    [theme=dark] .colab-df-convert {\n",
              "      background-color: #3B4455;\n",
              "      fill: #D2E3FC;\n",
              "    }\n",
              "\n",
              "    [theme=dark] .colab-df-convert:hover {\n",
              "      background-color: #434B5C;\n",
              "      box-shadow: 0px 1px 3px 1px rgba(0, 0, 0, 0.15);\n",
              "      filter: drop-shadow(0px 1px 2px rgba(0, 0, 0, 0.3));\n",
              "      fill: #FFFFFF;\n",
              "    }\n",
              "  </style>\n",
              "\n",
              "      <script>\n",
              "        const buttonEl =\n",
              "          document.querySelector('#df-05da2798-60ff-493d-948e-1c77639390c2 button.colab-df-convert');\n",
              "        buttonEl.style.display =\n",
              "          google.colab.kernel.accessAllowed ? 'block' : 'none';\n",
              "\n",
              "        async function convertToInteractive(key) {\n",
              "          const element = document.querySelector('#df-05da2798-60ff-493d-948e-1c77639390c2');\n",
              "          const dataTable =\n",
              "            await google.colab.kernel.invokeFunction('convertToInteractive',\n",
              "                                                     [key], {});\n",
              "          if (!dataTable) return;\n",
              "\n",
              "          const docLinkHtml = 'Like what you see? Visit the ' +\n",
              "            '<a target=\"_blank\" href=https://colab.research.google.com/notebooks/data_table.ipynb>data table notebook</a>'\n",
              "            + ' to learn more about interactive tables.';\n",
              "          element.innerHTML = '';\n",
              "          dataTable['output_type'] = 'display_data';\n",
              "          await google.colab.output.renderOutput(dataTable, element);\n",
              "          const docLink = document.createElement('div');\n",
              "          docLink.innerHTML = docLinkHtml;\n",
              "          element.appendChild(docLink);\n",
              "        }\n",
              "      </script>\n",
              "    </div>\n",
              "  </div>\n"
            ]
          },
          "metadata": {},
          "execution_count": 45
        }
      ]
    },
    {
      "cell_type": "code",
      "source": [
        "# Checando dimensões dos dados carregados:\n",
        "base_data.shape"
      ],
      "metadata": {
        "colab": {
          "base_uri": "https://localhost:8080/"
        },
        "id": "yI7t3YS_-rE-",
        "outputId": "a3691cfd-6db0-42f2-9bdf-ef662f5f7544"
      },
      "execution_count": 46,
      "outputs": [
        {
          "output_type": "execute_result",
          "data": {
            "text/plain": [
              "(30, 4)"
            ]
          },
          "metadata": {},
          "execution_count": 46
        }
      ]
    },
    {
      "cell_type": "code",
      "source": [
        "# Verificando as informações dos dados:\n",
        "base_data.info()"
      ],
      "metadata": {
        "colab": {
          "base_uri": "https://localhost:8080/"
        },
        "id": "7HhhYsb3-vo_",
        "outputId": "277e2aac-f807-4fa5-9282-20bb2a5f484b"
      },
      "execution_count": 47,
      "outputs": [
        {
          "output_type": "stream",
          "name": "stdout",
          "text": [
            "<class 'pandas.core.frame.DataFrame'>\n",
            "RangeIndex: 30 entries, 0 to 29\n",
            "Data columns (total 4 columns):\n",
            " #   Column              Non-Null Count  Dtype \n",
            "---  ------              --------------  ----- \n",
            " 0   Dia                 30 non-null     object\n",
            " 1   Horas Trabalhadas   30 non-null     int64 \n",
            " 2   Bugs Corrigidos     30 non-null     int64 \n",
            " 3   Tarefas Concluídas  30 non-null     int64 \n",
            "dtypes: int64(3), object(1)\n",
            "memory usage: 1.1+ KB\n"
          ]
        }
      ]
    },
    {
      "cell_type": "markdown",
      "source": [
        "Nessas informações vemos que nossos dados estão em ótimas condições sem valores nulos como podemos ver que temos 30 entradas/registros e nas quadro colunas estão com 30 valores _non-null_. Com isso podemos prosseguir com nossa análise."
      ],
      "metadata": {
        "id": "9gSLSqk3Z-Pq"
      }
    },
    {
      "cell_type": "markdown",
      "source": [
        "⚠️ OBSERVAÇÃO\n",
        "\n",
        "Para preservação dos dados originais, poderíamos criar uma cópia, mas como não iremos fazer nenhum tratamento na base em questão, constinuaremos da forma que está."
      ],
      "metadata": {
        "id": "O55QixBVJqFI"
      }
    },
    {
      "cell_type": "markdown",
      "source": [
        "## Análises"
      ],
      "metadata": {
        "id": "z5cnS763Nz2H"
      }
    },
    {
      "cell_type": "markdown",
      "source": [
        "A partir daqui seguiremos na busca de respostas para as seguintes questões:\n",
        "\n",
        "_1 - Total de Horas Trabalhadas_\n",
        "\n",
        "_2 - Média Diária de Horas Trabalhadas_\n",
        "\n",
        "_3 - Total de Bugs Corrigidos_\n",
        "\n",
        "_4 - Média Diária de Bugs Corrigidos_\n",
        "\n",
        "_5 - Total de Tarefas Concluídas_\n",
        "\n",
        "_6 - Média Diária de Tarefas Concluídas_\n",
        "\n",
        "_7 - Produtividade Diária (Tarefas Concluídas por Hora)_\n",
        "\n",
        "Responderemos atribuindo as respostas á variáveis para assim facilitar a reutilização de resultados em outras análises."
      ],
      "metadata": {
        "id": "eG82Tf7jKCpz"
      }
    },
    {
      "cell_type": "code",
      "source": [
        "# No total de horas trabalhadas temos:\n",
        "horas_total = base_data['Horas Trabalhadas'].sum()\n",
        "horas_total"
      ],
      "metadata": {
        "id": "-6iM23lWEBRW",
        "colab": {
          "base_uri": "https://localhost:8080/"
        },
        "outputId": "bdeadfca-42ff-403a-f532-a9b1e634ddf7"
      },
      "execution_count": 49,
      "outputs": [
        {
          "output_type": "execute_result",
          "data": {
            "text/plain": [
              "122"
            ]
          },
          "metadata": {},
          "execution_count": 49
        }
      ]
    },
    {
      "cell_type": "code",
      "source": [
        "# Média diária de horas trabalhadas\n",
        "m_horas = base_data['Horas Trabalhadas'].mean()\n",
        "m_horas"
      ],
      "metadata": {
        "colab": {
          "base_uri": "https://localhost:8080/"
        },
        "id": "rA_1k3zDFUYf",
        "outputId": "40cbed3a-e992-4927-df69-574d4f84625a"
      },
      "execution_count": 50,
      "outputs": [
        {
          "output_type": "execute_result",
          "data": {
            "text/plain": [
              "4.066666666666666"
            ]
          },
          "metadata": {},
          "execution_count": 50
        }
      ]
    },
    {
      "cell_type": "code",
      "source": [
        "# Total de bugs corrigidos\n",
        "bugs_total = base_data['Bugs Corrigidos'].sum()\n",
        "bugs_total"
      ],
      "metadata": {
        "colab": {
          "base_uri": "https://localhost:8080/"
        },
        "id": "SGR2m0dCFrQZ",
        "outputId": "aa4659c5-bd64-4bbb-b21c-f43ece3ad598"
      },
      "execution_count": 51,
      "outputs": [
        {
          "output_type": "execute_result",
          "data": {
            "text/plain": [
              "72"
            ]
          },
          "metadata": {},
          "execution_count": 51
        }
      ]
    },
    {
      "cell_type": "code",
      "source": [
        "# Média diária de bugs corrigidos\n",
        "m_bugs = base_data['Bugs Corrigidos'].mean()\n",
        "m_bugs"
      ],
      "metadata": {
        "colab": {
          "base_uri": "https://localhost:8080/"
        },
        "id": "GrcQLewSF27F",
        "outputId": "baf7a82f-53c5-404f-b5a3-a02448aa15af"
      },
      "execution_count": 52,
      "outputs": [
        {
          "output_type": "execute_result",
          "data": {
            "text/plain": [
              "2.4"
            ]
          },
          "metadata": {},
          "execution_count": 52
        }
      ]
    },
    {
      "cell_type": "code",
      "source": [
        "# Total de tarefas concluídas\n",
        "tarefas_total = base_data['Tarefas Concluídas'].sum()\n",
        "tarefas_total"
      ],
      "metadata": {
        "colab": {
          "base_uri": "https://localhost:8080/"
        },
        "id": "sNXy5FG9GGE3",
        "outputId": "fdeb7a7a-8c82-4e79-a073-cfa44e1b7668"
      },
      "execution_count": 53,
      "outputs": [
        {
          "output_type": "execute_result",
          "data": {
            "text/plain": [
              "139"
            ]
          },
          "metadata": {},
          "execution_count": 53
        }
      ]
    },
    {
      "cell_type": "code",
      "source": [
        "# Média diária de tarefas concluídas\n",
        "m_tarefas = base_data['Tarefas Concluídas'].mean()\n",
        "m_tarefas"
      ],
      "metadata": {
        "colab": {
          "base_uri": "https://localhost:8080/"
        },
        "id": "HrAUa98QGSxk",
        "outputId": "2b7671fa-c2cd-4da6-b023-26d83d245686"
      },
      "execution_count": 54,
      "outputs": [
        {
          "output_type": "execute_result",
          "data": {
            "text/plain": [
              "4.633333333333334"
            ]
          },
          "metadata": {},
          "execution_count": 54
        }
      ]
    },
    {
      "cell_type": "code",
      "source": [
        "# Produtividade Diária (Tarefas Concluídas por Hora)\n",
        "tarefas_total / horas_total"
      ],
      "metadata": {
        "colab": {
          "base_uri": "https://localhost:8080/"
        },
        "id": "1XMU2BfNGhFL",
        "outputId": "bd3d4556-1179-44df-df97-8ca4342ff587"
      },
      "execution_count": 55,
      "outputs": [
        {
          "output_type": "execute_result",
          "data": {
            "text/plain": [
              "1.139344262295082"
            ]
          },
          "metadata": {},
          "execution_count": 55
        }
      ]
    }
  ]
}